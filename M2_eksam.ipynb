{
  "nbformat": 4,
  "nbformat_minor": 0,
  "metadata": {
    "kernelspec": {
      "display_name": "R",
      "language": "R",
      "name": "ir"
    },
    "language_info": {
      "codemirror_mode": "r",
      "file_extension": ".r",
      "mimetype": "text/x-r-source",
      "name": "R",
      "pygments_lexer": "r",
      "version": "3.3.1"
    },
    "colab": {
      "name": "M2 eksam",
      "provenance": [],
      "collapsed_sections": [],
      "include_colab_link": true
    }
  },
  "cells": [
    {
      "cell_type": "markdown",
      "metadata": {
        "id": "view-in-github",
        "colab_type": "text"
      },
      "source": [
        "<a href=\"https://colab.research.google.com/github/apla14/hello-world/blob/master/M2_eksam.ipynb\" target=\"_parent\"><img src=\"https://colab.research.google.com/assets/colab-badge.svg\" alt=\"Open In Colab\"/></a>"
      ]
    },
    {
      "cell_type": "code",
      "metadata": {
        "id": "VQj3waUiD4Y-",
        "colab_type": "code",
        "outputId": "4495f269-7fd3-4b05-e30b-ee74e0f6e211",
        "colab": {
          "base_uri": "https://localhost:8080/",
          "height": 221
        }
      },
      "source": [
        "install.packages(\"pacman\")\n",
        "install.packages(\"tidyverse\")\n",
        "library(pacman)\n",
        "library(tidyverse)"
      ],
      "execution_count": 0,
      "outputs": [
        {
          "output_type": "stream",
          "text": [
            "Installing package into ‘/usr/local/lib/R/site-library’\n",
            "(as ‘lib’ is unspecified)\n",
            "Installing package into ‘/usr/local/lib/R/site-library’\n",
            "(as ‘lib’ is unspecified)\n",
            "── \u001b[1mAttaching packages\u001b[22m ─────────────────────────────────────── tidyverse 1.2.1 ──\n",
            "\u001b[32m✔\u001b[39m \u001b[34mggplot2\u001b[39m 3.2.1     \u001b[32m✔\u001b[39m \u001b[34mpurrr  \u001b[39m 0.3.2\n",
            "\u001b[32m✔\u001b[39m \u001b[34mtibble \u001b[39m 2.1.3     \u001b[32m✔\u001b[39m \u001b[34mdplyr  \u001b[39m 0.8.3\n",
            "\u001b[32m✔\u001b[39m \u001b[34mtidyr  \u001b[39m 0.8.3     \u001b[32m✔\u001b[39m \u001b[34mstringr\u001b[39m 1.4.0\n",
            "\u001b[32m✔\u001b[39m \u001b[34mreadr  \u001b[39m 1.3.1     \u001b[32m✔\u001b[39m \u001b[34mforcats\u001b[39m 0.4.0\n",
            "── \u001b[1mConflicts\u001b[22m ────────────────────────────────────────── tidyverse_conflicts() ──\n",
            "\u001b[31m✖\u001b[39m \u001b[34mdplyr\u001b[39m::\u001b[32mfilter()\u001b[39m masks \u001b[34mstats\u001b[39m::filter()\n",
            "\u001b[31m✖\u001b[39m \u001b[34mdplyr\u001b[39m::\u001b[32mlag()\u001b[39m    masks \u001b[34mstats\u001b[39m::lag()\n"
          ],
          "name": "stderr"
        }
      ]
    },
    {
      "cell_type": "code",
      "metadata": {
        "id": "90E5IapH_t0j",
        "colab_type": "code",
        "outputId": "87b203ec-cbae-4077-ae53-4847c681778f",
        "colab": {
          "base_uri": "https://localhost:8080/",
          "height": 289
        }
      },
      "source": [
        "SMSspam=read_delim(\"https://raw.githubusercontent.com/apla14/hello-world/master/SpamSms\", \n",
        "    \";\",escape_double = FALSE, col_names = FALSE, \n",
        "    trim_ws = TRUE)"
      ],
      "execution_count": 0,
      "outputs": [
        {
          "output_type": "stream",
          "text": [
            "Parsed with column specification:\n",
            "cols(\n",
            "  X1 = \u001b[31mcol_character()\u001b[39m,\n",
            "  X2 = \u001b[31mcol_character()\u001b[39m\n",
            ")\n",
            "Warning message:\n",
            "“7 parsing failures.\n",
            " row col  expected     actual                                                                  file\n",
            "1129  -- 2 columns 3 columns  'https://raw.githubusercontent.com/apla14/hello-world/master/SpamSms'\n",
            "1442  -- 2 columns 3 columns  'https://raw.githubusercontent.com/apla14/hello-world/master/SpamSms'\n",
            "2371  -- 2 columns 3 columns  'https://raw.githubusercontent.com/apla14/hello-world/master/SpamSms'\n",
            "2435  -- 2 columns 15 columns 'https://raw.githubusercontent.com/apla14/hello-world/master/SpamSms'\n",
            "3053  -- 2 columns 3 columns  'https://raw.githubusercontent.com/apla14/hello-world/master/SpamSms'\n",
            ".... ... ......... .......... .....................................................................\n",
            "See problems(...) for more details.\n",
            "”"
          ],
          "name": "stderr"
        }
      ]
    },
    {
      "cell_type": "code",
      "metadata": {
        "id": "1lKt9ZAZC23J",
        "colab_type": "code",
        "outputId": "849117d4-e6fd-412b-876f-3ec79a2e5811",
        "colab": {
          "base_uri": "https://localhost:8080/",
          "height": 204
        }
      },
      "source": [
        "SMSspam %<>% mutate(ID=rownames(SMSspam)) %>% select(ID,X1,X2) \n",
        "SMSspam %<>% mutate(ham_spam=X1) %>% mutate(SMS=X2) %>% select(-X1,-X2)\n",
        "SMSspam %>% head()"
      ],
      "execution_count": 0,
      "outputs": [
        {
          "output_type": "display_data",
          "data": {
            "text/plain": [
              "  ID ham_spam\n",
              "1 1  ham     \n",
              "2 2  ham     \n",
              "3 3  spam    \n",
              "4 4  ham     \n",
              "5 5  ham     \n",
              "6 6  spam    \n",
              "  SMS                                                                                                                                                        \n",
              "1 Go until jurong point, crazy.. Available only in bugis n great world la e buffet... Cine there got amore wat...                                            \n",
              "2 Ok lar... Joking wif u oni...                                                                                                                              \n",
              "3 Free entry in 2 a wkly comp to win FA Cup final tkts 21st May 2005. Text FA to 87121 to receive entry question(std txt rate)T&C's apply 08452810075over18's\n",
              "4 U dun say so early hor... U c already then say...                                                                                                          \n",
              "5 Nah I don't think he goes to usf, he lives around here though                                                                                              \n",
              "6 FreeMsg Hey there darling it's been 3 week's now and no word back! I'd like some fun you up for it still? Tb ok! XxX std chgs to send, £1.50 to rcv        "
            ],
            "text/latex": "A tibble: 6 × 3\n\\begin{tabular}{r|lll}\n ID & ham\\_spam & SMS\\\\\n <chr> & <chr> & <chr>\\\\\n\\hline\n\t 1 & ham  & Go until jurong point, crazy.. Available only in bugis n great world la e buffet... Cine there got amore wat...                                            \\\\\n\t 2 & ham  & Ok lar... Joking wif u oni...                                                                                                                              \\\\\n\t 3 & spam & Free entry in 2 a wkly comp to win FA Cup final tkts 21st May 2005. Text FA to 87121 to receive entry question(std txt rate)T\\&C's apply 08452810075over18's\\\\\n\t 4 & ham  & U dun say so early hor... U c already then say...                                                                                                          \\\\\n\t 5 & ham  & Nah I don't think he goes to usf, he lives around here though                                                                                              \\\\\n\t 6 & spam & FreeMsg Hey there darling it's been 3 week's now and no word back! I'd like some fun you up for it still? Tb ok! XxX std chgs to send, £1.50 to rcv        \\\\\n\\end{tabular}\n",
            "text/markdown": "\nA tibble: 6 × 3\n\n| ID &lt;chr&gt; | ham_spam &lt;chr&gt; | SMS &lt;chr&gt; |\n|---|---|---|\n| 1 | ham  | Go until jurong point, crazy.. Available only in bugis n great world la e buffet... Cine there got amore wat...                                             |\n| 2 | ham  | Ok lar... Joking wif u oni...                                                                                                                               |\n| 3 | spam | Free entry in 2 a wkly comp to win FA Cup final tkts 21st May 2005. Text FA to 87121 to receive entry question(std txt rate)T&amp;C's apply 08452810075over18's |\n| 4 | ham  | U dun say so early hor... U c already then say...                                                                                                           |\n| 5 | ham  | Nah I don't think he goes to usf, he lives around here though                                                                                               |\n| 6 | spam | FreeMsg Hey there darling it's been 3 week's now and no word back! I'd like some fun you up for it still? Tb ok! XxX std chgs to send, £1.50 to rcv         |\n\n",
            "text/html": [
              "<table>\n",
              "<caption>A tibble: 6 × 3</caption>\n",
              "<thead>\n",
              "\t<tr><th scope=col>ID</th><th scope=col>ham_spam</th><th scope=col>SMS</th></tr>\n",
              "\t<tr><th scope=col>&lt;chr&gt;</th><th scope=col>&lt;chr&gt;</th><th scope=col>&lt;chr&gt;</th></tr>\n",
              "</thead>\n",
              "<tbody>\n",
              "\t<tr><td>1</td><td>ham </td><td>Go until jurong point, crazy.. Available only in bugis n great world la e buffet... Cine there got amore wat...                                            </td></tr>\n",
              "\t<tr><td>2</td><td>ham </td><td>Ok lar... Joking wif u oni...                                                                                                                              </td></tr>\n",
              "\t<tr><td>3</td><td>spam</td><td>Free entry in 2 a wkly comp to win FA Cup final tkts 21st May 2005. Text FA to 87121 to receive entry question(std txt rate)T&amp;C's apply 08452810075over18's</td></tr>\n",
              "\t<tr><td>4</td><td>ham </td><td>U dun say so early hor... U c already then say...                                                                                                          </td></tr>\n",
              "\t<tr><td>5</td><td>ham </td><td>Nah I don't think he goes to usf, he lives around here though                                                                                              </td></tr>\n",
              "\t<tr><td>6</td><td>spam</td><td>FreeMsg Hey there darling it's been 3 week's now and no word back! I'd like some fun you up for it still? Tb ok! XxX std chgs to send, £1.50 to rcv        </td></tr>\n",
              "</tbody>\n",
              "</table>\n"
            ]
          },
          "metadata": {
            "tags": []
          }
        }
      ]
    },
    {
      "cell_type": "code",
      "metadata": {
        "id": "RwgIIRtbGtbO",
        "colab_type": "code",
        "outputId": "a6a176c1-a4bb-406f-8cbd-f176b68de050",
        "colab": {
          "base_uri": "https://localhost:8080/",
          "height": 221
        }
      },
      "source": [
        "pacman::p_load(tidytext, tm)"
      ],
      "execution_count": 0,
      "outputs": [
        {
          "output_type": "stream",
          "text": [
            "Installing package into ‘/usr/local/lib/R/site-library’\n",
            "(as ‘lib’ is unspecified)\n",
            "also installing the dependencies ‘SnowballC’, ‘ISOcodes’, ‘hunspell’, ‘tokenizers’, ‘janeaustenr’, ‘stopwords’\n",
            "\n",
            "\n",
            "tidytext installed\n",
            "Installing package into ‘/usr/local/lib/R/site-library’\n",
            "(as ‘lib’ is unspecified)\n",
            "also installing the dependencies ‘NLP’, ‘slam’\n",
            "\n",
            "\n",
            "tm installed\n"
          ],
          "name": "stderr"
        }
      ]
    },
    {
      "cell_type": "code",
      "metadata": {
        "id": "11KJq8GZHnmX",
        "colab_type": "code",
        "outputId": "5a310609-08a9-4f1e-f0fa-98872ef5b06a",
        "colab": {
          "base_uri": "https://localhost:8080/",
          "height": 719
        }
      },
      "source": [
        "data = SMSspam %>% unnest_tokens(word,SMS)\n",
        "data %>% head()\n",
        "data %>% group_by(word) %>% count() %>% arrange(desc(n)) %>% head(20)"
      ],
      "execution_count": 0,
      "outputs": [
        {
          "output_type": "display_data",
          "data": {
            "text/plain": [
              "  ID ham_spam word     \n",
              "1 1  ham      go       \n",
              "2 1  ham      until    \n",
              "3 1  ham      jurong   \n",
              "4 1  ham      point    \n",
              "5 1  ham      crazy    \n",
              "6 1  ham      available"
            ],
            "text/latex": "A tibble: 6 × 3\n\\begin{tabular}{r|lll}\n ID & ham\\_spam & word\\\\\n <chr> & <chr> & <chr>\\\\\n\\hline\n\t 1 & ham & go       \\\\\n\t 1 & ham & until    \\\\\n\t 1 & ham & jurong   \\\\\n\t 1 & ham & point    \\\\\n\t 1 & ham & crazy    \\\\\n\t 1 & ham & available\\\\\n\\end{tabular}\n",
            "text/markdown": "\nA tibble: 6 × 3\n\n| ID &lt;chr&gt; | ham_spam &lt;chr&gt; | word &lt;chr&gt; |\n|---|---|---|\n| 1 | ham | go        |\n| 1 | ham | until     |\n| 1 | ham | jurong    |\n| 1 | ham | point     |\n| 1 | ham | crazy     |\n| 1 | ham | available |\n\n",
            "text/html": [
              "<table>\n",
              "<caption>A tibble: 6 × 3</caption>\n",
              "<thead>\n",
              "\t<tr><th scope=col>ID</th><th scope=col>ham_spam</th><th scope=col>word</th></tr>\n",
              "\t<tr><th scope=col>&lt;chr&gt;</th><th scope=col>&lt;chr&gt;</th><th scope=col>&lt;chr&gt;</th></tr>\n",
              "</thead>\n",
              "<tbody>\n",
              "\t<tr><td>1</td><td>ham</td><td>go       </td></tr>\n",
              "\t<tr><td>1</td><td>ham</td><td>until    </td></tr>\n",
              "\t<tr><td>1</td><td>ham</td><td>jurong   </td></tr>\n",
              "\t<tr><td>1</td><td>ham</td><td>point    </td></tr>\n",
              "\t<tr><td>1</td><td>ham</td><td>crazy    </td></tr>\n",
              "\t<tr><td>1</td><td>ham</td><td>available</td></tr>\n",
              "</tbody>\n",
              "</table>\n"
            ]
          },
          "metadata": {
            "tags": []
          }
        },
        {
          "output_type": "display_data",
          "data": {
            "text/plain": [
              "   word n   \n",
              "1  i    2300\n",
              "2  to   2249\n",
              "3  you  2149\n",
              "4  a    1448\n",
              "5  the  1335\n",
              "6  u    1183\n",
              "7  and   979\n",
              "8  in    900\n",
              "9  is    892\n",
              "10 me    800\n",
              "11 my    763\n",
              "12 for   708\n",
              "13 your  679\n",
              "14 it    643\n",
              "15 of    621\n",
              "16 call  588\n",
              "17 have  574\n",
              "18 on    538\n",
              "19 that  522\n",
              "20 2     513"
            ],
            "text/latex": "A grouped_df: 20 × 2\n\\begin{tabular}{r|ll}\n word & n\\\\\n <chr> & <int>\\\\\n\\hline\n\t i    & 2300\\\\\n\t to   & 2249\\\\\n\t you  & 2149\\\\\n\t a    & 1448\\\\\n\t the  & 1335\\\\\n\t u    & 1183\\\\\n\t and  &  979\\\\\n\t in   &  900\\\\\n\t is   &  892\\\\\n\t me   &  800\\\\\n\t my   &  763\\\\\n\t for  &  708\\\\\n\t your &  679\\\\\n\t it   &  643\\\\\n\t of   &  621\\\\\n\t call &  588\\\\\n\t have &  574\\\\\n\t on   &  538\\\\\n\t that &  522\\\\\n\t 2    &  513\\\\\n\\end{tabular}\n",
            "text/markdown": "\nA grouped_df: 20 × 2\n\n| word &lt;chr&gt; | n &lt;int&gt; |\n|---|---|\n| i    | 2300 |\n| to   | 2249 |\n| you  | 2149 |\n| a    | 1448 |\n| the  | 1335 |\n| u    | 1183 |\n| and  |  979 |\n| in   |  900 |\n| is   |  892 |\n| me   |  800 |\n| my   |  763 |\n| for  |  708 |\n| your |  679 |\n| it   |  643 |\n| of   |  621 |\n| call |  588 |\n| have |  574 |\n| on   |  538 |\n| that |  522 |\n| 2    |  513 |\n\n",
            "text/html": [
              "<table>\n",
              "<caption>A grouped_df: 20 × 2</caption>\n",
              "<thead>\n",
              "\t<tr><th scope=col>word</th><th scope=col>n</th></tr>\n",
              "\t<tr><th scope=col>&lt;chr&gt;</th><th scope=col>&lt;int&gt;</th></tr>\n",
              "</thead>\n",
              "<tbody>\n",
              "\t<tr><td>i   </td><td>2300</td></tr>\n",
              "\t<tr><td>to  </td><td>2249</td></tr>\n",
              "\t<tr><td>you </td><td>2149</td></tr>\n",
              "\t<tr><td>a   </td><td>1448</td></tr>\n",
              "\t<tr><td>the </td><td>1335</td></tr>\n",
              "\t<tr><td>u   </td><td>1183</td></tr>\n",
              "\t<tr><td>and </td><td> 979</td></tr>\n",
              "\t<tr><td>in  </td><td> 900</td></tr>\n",
              "\t<tr><td>is  </td><td> 892</td></tr>\n",
              "\t<tr><td>me  </td><td> 800</td></tr>\n",
              "\t<tr><td>my  </td><td> 763</td></tr>\n",
              "\t<tr><td>for </td><td> 708</td></tr>\n",
              "\t<tr><td>your</td><td> 679</td></tr>\n",
              "\t<tr><td>it  </td><td> 643</td></tr>\n",
              "\t<tr><td>of  </td><td> 621</td></tr>\n",
              "\t<tr><td>call</td><td> 588</td></tr>\n",
              "\t<tr><td>have</td><td> 574</td></tr>\n",
              "\t<tr><td>on  </td><td> 538</td></tr>\n",
              "\t<tr><td>that</td><td> 522</td></tr>\n",
              "\t<tr><td>2   </td><td> 513</td></tr>\n",
              "</tbody>\n",
              "</table>\n"
            ]
          },
          "metadata": {
            "tags": []
          }
        }
      ]
    },
    {
      "cell_type": "code",
      "metadata": {
        "id": "fzvNxwpEInzu",
        "colab_type": "code",
        "outputId": "68685e99-e127-49a1-a67b-80b7bd989436",
        "colab": {
          "base_uri": "https://localhost:8080/",
          "height": 1000
        }
      },
      "source": [
        "own_stopwords = tibble(word = c(\"gt\",\"lt\",\"ü\",\"2\",\"4\"), lexicon=\"OWN\")\n",
        "data= data %>% anti_join(stop_words%>% bind_rows(own_stopwords),by=\"word\") %>% mutate(word=wordStem(word))\n",
        "data %>% group_by(word) %>% count() %>% arrange(desc(n)) %>% head(4000)"
      ],
      "execution_count": 0,
      "outputs": [
        {
          "output_type": "display_data",
          "data": {
            "text/plain": [
              "     word              n  \n",
              "1    call              588\n",
              "2    ur                391\n",
              "3    free              282\n",
              "4    day               219\n",
              "5    time              218\n",
              "6    love              207\n",
              "7    send              196\n",
              "8    text              193\n",
              "9    txt               174\n",
              "10   home              163\n",
              "11   lor               162\n",
              "12   stop              160\n",
              "13   da                149\n",
              "14   reply             147\n",
              "15   dont              146\n",
              "16   mobile            142\n",
              "17   pls               126\n",
              "18   phone             125\n",
              "19   week              122\n",
              "20   dear              119\n",
              "21   1                 117\n",
              "22   night             117\n",
              "23   claim             113\n",
              "24   hey               112\n",
              "25   hope              111\n",
              "26   happy             108\n",
              "27   msg               106\n",
              "28   wat                99\n",
              "29   3                  96\n",
              "30   message            92\n",
              "⋮    ⋮                 ⋮  \n",
              "3971 08717509990       1  \n",
              "3972 08717890890       1  \n",
              "3973 08717895698       1  \n",
              "3974 08718711108       1  \n",
              "3975 08718723815       1  \n",
              "3976 08718725756       1  \n",
              "3977 08718726970       1  \n",
              "3978 08718726971       1  \n",
              "3979 08718726978       1  \n",
              "3980 087187272008      1  \n",
              "3981 08718727870150ppm 1  \n",
              "3982 08718730555       1  \n",
              "3983 08718738002       1  \n",
              "3984 08718738034       1  \n",
              "3985 08719180219       1  \n",
              "3986 08719181259       1  \n",
              "3987 08719181503       1  \n",
              "3988 08719839835       1  \n",
              "3989 08719899217       1  \n",
              "3990 08719899229       1  \n",
              "3991 08719899230       1  \n",
              "3992 09041940223       1  \n",
              "3993 09050000301       1  \n",
              "3994 09050000332       1  \n",
              "3995 09050000460       1  \n",
              "3996 09050000555       1  \n",
              "3997 09050000878       1  \n",
              "3998 09050000928       1  \n",
              "3999 09050001295       1  \n",
              "4000 09050005321       1  "
            ],
            "text/latex": "A grouped_df: 4000 × 2\n\\begin{tabular}{r|ll}\n word & n\\\\\n <chr> & <int>\\\\\n\\hline\n\t call    & 588\\\\\n\t ur      & 391\\\\\n\t free    & 282\\\\\n\t day     & 219\\\\\n\t time    & 218\\\\\n\t love    & 207\\\\\n\t send    & 196\\\\\n\t text    & 193\\\\\n\t txt     & 174\\\\\n\t home    & 163\\\\\n\t lor     & 162\\\\\n\t stop    & 160\\\\\n\t da      & 149\\\\\n\t reply   & 147\\\\\n\t dont    & 146\\\\\n\t mobile  & 142\\\\\n\t pls     & 126\\\\\n\t phone   & 125\\\\\n\t week    & 122\\\\\n\t dear    & 119\\\\\n\t 1       & 117\\\\\n\t night   & 117\\\\\n\t claim   & 113\\\\\n\t hey     & 112\\\\\n\t hope    & 111\\\\\n\t happy   & 108\\\\\n\t msg     & 106\\\\\n\t wat     &  99\\\\\n\t 3       &  96\\\\\n\t message &  92\\\\\n\t ⋮ & ⋮\\\\\n\t 08717509990       & 1\\\\\n\t 08717890890       & 1\\\\\n\t 08717895698       & 1\\\\\n\t 08718711108       & 1\\\\\n\t 08718723815       & 1\\\\\n\t 08718725756       & 1\\\\\n\t 08718726970       & 1\\\\\n\t 08718726971       & 1\\\\\n\t 08718726978       & 1\\\\\n\t 087187272008      & 1\\\\\n\t 08718727870150ppm & 1\\\\\n\t 08718730555       & 1\\\\\n\t 08718738002       & 1\\\\\n\t 08718738034       & 1\\\\\n\t 08719180219       & 1\\\\\n\t 08719181259       & 1\\\\\n\t 08719181503       & 1\\\\\n\t 08719839835       & 1\\\\\n\t 08719899217       & 1\\\\\n\t 08719899229       & 1\\\\\n\t 08719899230       & 1\\\\\n\t 09041940223       & 1\\\\\n\t 09050000301       & 1\\\\\n\t 09050000332       & 1\\\\\n\t 09050000460       & 1\\\\\n\t 09050000555       & 1\\\\\n\t 09050000878       & 1\\\\\n\t 09050000928       & 1\\\\\n\t 09050001295       & 1\\\\\n\t 09050005321       & 1\\\\\n\\end{tabular}\n",
            "text/markdown": "\nA grouped_df: 4000 × 2\n\n| word &lt;chr&gt; | n &lt;int&gt; |\n|---|---|\n| call    | 588 |\n| ur      | 391 |\n| free    | 282 |\n| day     | 219 |\n| time    | 218 |\n| love    | 207 |\n| send    | 196 |\n| text    | 193 |\n| txt     | 174 |\n| home    | 163 |\n| lor     | 162 |\n| stop    | 160 |\n| da      | 149 |\n| reply   | 147 |\n| dont    | 146 |\n| mobile  | 142 |\n| pls     | 126 |\n| phone   | 125 |\n| week    | 122 |\n| dear    | 119 |\n| 1       | 117 |\n| night   | 117 |\n| claim   | 113 |\n| hey     | 112 |\n| hope    | 111 |\n| happy   | 108 |\n| msg     | 106 |\n| wat     |  99 |\n| 3       |  96 |\n| message |  92 |\n| ⋮ | ⋮ |\n| 08717509990       | 1 |\n| 08717890890       | 1 |\n| 08717895698       | 1 |\n| 08718711108       | 1 |\n| 08718723815       | 1 |\n| 08718725756       | 1 |\n| 08718726970       | 1 |\n| 08718726971       | 1 |\n| 08718726978       | 1 |\n| 087187272008      | 1 |\n| 08718727870150ppm | 1 |\n| 08718730555       | 1 |\n| 08718738002       | 1 |\n| 08718738034       | 1 |\n| 08719180219       | 1 |\n| 08719181259       | 1 |\n| 08719181503       | 1 |\n| 08719839835       | 1 |\n| 08719899217       | 1 |\n| 08719899229       | 1 |\n| 08719899230       | 1 |\n| 09041940223       | 1 |\n| 09050000301       | 1 |\n| 09050000332       | 1 |\n| 09050000460       | 1 |\n| 09050000555       | 1 |\n| 09050000878       | 1 |\n| 09050000928       | 1 |\n| 09050001295       | 1 |\n| 09050005321       | 1 |\n\n",
            "text/html": [
              "<table>\n",
              "<caption>A grouped_df: 4000 × 2</caption>\n",
              "<thead>\n",
              "\t<tr><th scope=col>word</th><th scope=col>n</th></tr>\n",
              "\t<tr><th scope=col>&lt;chr&gt;</th><th scope=col>&lt;int&gt;</th></tr>\n",
              "</thead>\n",
              "<tbody>\n",
              "\t<tr><td>call   </td><td>588</td></tr>\n",
              "\t<tr><td>ur     </td><td>391</td></tr>\n",
              "\t<tr><td>free   </td><td>282</td></tr>\n",
              "\t<tr><td>day    </td><td>219</td></tr>\n",
              "\t<tr><td>time   </td><td>218</td></tr>\n",
              "\t<tr><td>love   </td><td>207</td></tr>\n",
              "\t<tr><td>send   </td><td>196</td></tr>\n",
              "\t<tr><td>text   </td><td>193</td></tr>\n",
              "\t<tr><td>txt    </td><td>174</td></tr>\n",
              "\t<tr><td>home   </td><td>163</td></tr>\n",
              "\t<tr><td>lor    </td><td>162</td></tr>\n",
              "\t<tr><td>stop   </td><td>160</td></tr>\n",
              "\t<tr><td>da     </td><td>149</td></tr>\n",
              "\t<tr><td>reply  </td><td>147</td></tr>\n",
              "\t<tr><td>dont   </td><td>146</td></tr>\n",
              "\t<tr><td>mobile </td><td>142</td></tr>\n",
              "\t<tr><td>pls    </td><td>126</td></tr>\n",
              "\t<tr><td>phone  </td><td>125</td></tr>\n",
              "\t<tr><td>week   </td><td>122</td></tr>\n",
              "\t<tr><td>dear   </td><td>119</td></tr>\n",
              "\t<tr><td>1      </td><td>117</td></tr>\n",
              "\t<tr><td>night  </td><td>117</td></tr>\n",
              "\t<tr><td>claim  </td><td>113</td></tr>\n",
              "\t<tr><td>hey    </td><td>112</td></tr>\n",
              "\t<tr><td>hope   </td><td>111</td></tr>\n",
              "\t<tr><td>happy  </td><td>108</td></tr>\n",
              "\t<tr><td>msg    </td><td>106</td></tr>\n",
              "\t<tr><td>wat    </td><td> 99</td></tr>\n",
              "\t<tr><td>3      </td><td> 96</td></tr>\n",
              "\t<tr><td>message</td><td> 92</td></tr>\n",
              "\t<tr><td>⋮</td><td>⋮</td></tr>\n",
              "\t<tr><td>08717509990      </td><td>1</td></tr>\n",
              "\t<tr><td>08717890890      </td><td>1</td></tr>\n",
              "\t<tr><td>08717895698      </td><td>1</td></tr>\n",
              "\t<tr><td>08718711108      </td><td>1</td></tr>\n",
              "\t<tr><td>08718723815      </td><td>1</td></tr>\n",
              "\t<tr><td>08718725756      </td><td>1</td></tr>\n",
              "\t<tr><td>08718726970      </td><td>1</td></tr>\n",
              "\t<tr><td>08718726971      </td><td>1</td></tr>\n",
              "\t<tr><td>08718726978      </td><td>1</td></tr>\n",
              "\t<tr><td>087187272008     </td><td>1</td></tr>\n",
              "\t<tr><td>08718727870150ppm</td><td>1</td></tr>\n",
              "\t<tr><td>08718730555      </td><td>1</td></tr>\n",
              "\t<tr><td>08718738002      </td><td>1</td></tr>\n",
              "\t<tr><td>08718738034      </td><td>1</td></tr>\n",
              "\t<tr><td>08719180219      </td><td>1</td></tr>\n",
              "\t<tr><td>08719181259      </td><td>1</td></tr>\n",
              "\t<tr><td>08719181503      </td><td>1</td></tr>\n",
              "\t<tr><td>08719839835      </td><td>1</td></tr>\n",
              "\t<tr><td>08719899217      </td><td>1</td></tr>\n",
              "\t<tr><td>08719899229      </td><td>1</td></tr>\n",
              "\t<tr><td>08719899230      </td><td>1</td></tr>\n",
              "\t<tr><td>09041940223      </td><td>1</td></tr>\n",
              "\t<tr><td>09050000301      </td><td>1</td></tr>\n",
              "\t<tr><td>09050000332      </td><td>1</td></tr>\n",
              "\t<tr><td>09050000460      </td><td>1</td></tr>\n",
              "\t<tr><td>09050000555      </td><td>1</td></tr>\n",
              "\t<tr><td>09050000878      </td><td>1</td></tr>\n",
              "\t<tr><td>09050000928      </td><td>1</td></tr>\n",
              "\t<tr><td>09050001295      </td><td>1</td></tr>\n",
              "\t<tr><td>09050005321      </td><td>1</td></tr>\n",
              "</tbody>\n",
              "</table>\n"
            ]
          },
          "metadata": {
            "tags": []
          }
        }
      ]
    },
    {
      "cell_type": "code",
      "metadata": {
        "id": "sZDV7iF6sitQ",
        "colab_type": "code",
        "outputId": "e1f2421a-de93-4c16-aa8a-e3dcbbdbc3f2",
        "colab": {
          "base_uri": "https://localhost:8080/",
          "height": 357
        }
      },
      "source": [
        "dtm = data %>%  count(ID, word) %>% cast_dtm(document =ID, term = word, value = n, weighting = tm::weightTf)\n",
        "\n",
        "dtm\n",
        "\n",
        "dtm %>% removeSparseTerms(sparse = .99)\n",
        "dtm %>% removeSparseTerms(sparse = .999)\n",
        "dtm %>% removeSparseTerms(sparse = .9999)"
      ],
      "execution_count": 0,
      "outputs": [
        {
          "output_type": "display_data",
          "data": {
            "text/plain": [
              "<<DocumentTermMatrix (documents: 5451, terms: 8581)>>\n",
              "Non-/sparse entries: 35412/46739619\n",
              "Sparsity           : 100%\n",
              "Maximal term length: 42\n",
              "Weighting          : term frequency (tf)"
            ]
          },
          "metadata": {
            "tags": []
          }
        },
        {
          "output_type": "display_data",
          "data": {
            "text/plain": [
              "<<DocumentTermMatrix (documents: 5451, terms: 64)>>\n",
              "Non-/sparse entries: 6914/341950\n",
              "Sparsity           : 98%\n",
              "Maximal term length: 8\n",
              "Weighting          : term frequency (tf)"
            ]
          },
          "metadata": {
            "tags": []
          }
        },
        {
          "output_type": "display_data",
          "data": {
            "text/plain": [
              "<<DocumentTermMatrix (documents: 5451, terms: 1194)>>\n",
              "Non-/sparse entries: 23404/6485090\n",
              "Sparsity           : 100%\n",
              "Maximal term length: 17\n",
              "Weighting          : term frequency (tf)"
            ]
          },
          "metadata": {
            "tags": []
          }
        },
        {
          "output_type": "display_data",
          "data": {
            "text/plain": [
              "<<DocumentTermMatrix (documents: 5451, terms: 8581)>>\n",
              "Non-/sparse entries: 35412/46739619\n",
              "Sparsity           : 100%\n",
              "Maximal term length: 42\n",
              "Weighting          : term frequency (tf)"
            ]
          },
          "metadata": {
            "tags": []
          }
        }
      ]
    },
    {
      "cell_type": "markdown",
      "metadata": {
        "id": "WQNRP-xUI_JK",
        "colab_type": "text"
      },
      "source": [
        "NLP\n",
        "- EDA / simple frequency-based analysis\n",
        "- Simple vectorization (BoW, Tf-idf)\n",
        "- Topic modelling / Clustering (LDA / LSA)\n",
        "- Embedding-model based vectorization (Word2Vec, Fasttext, GloVe)"
      ]
    },
    {
      "cell_type": "code",
      "metadata": {
        "id": "caEG0oYKQ9wF",
        "colab_type": "code",
        "outputId": "757adee1-f8ca-456d-bd6f-270f3ea7c856",
        "colab": {
          "base_uri": "https://localhost:8080/",
          "height": 204
        }
      },
      "source": [
        "twit_IDF <- data %>% \n",
        "  count(ID, word, sort = TRUE) %>% \n",
        "  bind_tf_idf(word, ID, n)\n",
        "\n",
        "twit_IDF %>% \n",
        "  head()"
      ],
      "execution_count": 0,
      "outputs": [
        {
          "output_type": "display_data",
          "data": {
            "text/plain": [
              "  ID   word    n  tf    idf      tf_idf   \n",
              "1 3018 happy   15 0.300 4.149207 1.2447621\n",
              "2 1141 missing  6 0.500 5.713183 2.8565913\n",
              "3 1354 ur       6 0.375 2.866982 1.0751183\n",
              "4 1471 ur       6 0.240 2.866982 0.6880757\n",
              "5 1780 ur       6 0.240 2.866982 0.6880757\n",
              "6 2983 ur       6 0.240 2.866982 0.6880757"
            ],
            "text/latex": "A tibble: 6 × 6\n\\begin{tabular}{r|llllll}\n ID & word & n & tf & idf & tf\\_idf\\\\\n <chr> & <chr> & <int> & <dbl> & <dbl> & <dbl>\\\\\n\\hline\n\t 3018 & happy   & 15 & 0.300 & 4.149207 & 1.2447621\\\\\n\t 1141 & missing &  6 & 0.500 & 5.713183 & 2.8565913\\\\\n\t 1354 & ur      &  6 & 0.375 & 2.866982 & 1.0751183\\\\\n\t 1471 & ur      &  6 & 0.240 & 2.866982 & 0.6880757\\\\\n\t 1780 & ur      &  6 & 0.240 & 2.866982 & 0.6880757\\\\\n\t 2983 & ur      &  6 & 0.240 & 2.866982 & 0.6880757\\\\\n\\end{tabular}\n",
            "text/markdown": "\nA tibble: 6 × 6\n\n| ID &lt;chr&gt; | word &lt;chr&gt; | n &lt;int&gt; | tf &lt;dbl&gt; | idf &lt;dbl&gt; | tf_idf &lt;dbl&gt; |\n|---|---|---|---|---|---|\n| 3018 | happy   | 15 | 0.300 | 4.149207 | 1.2447621 |\n| 1141 | missing |  6 | 0.500 | 5.713183 | 2.8565913 |\n| 1354 | ur      |  6 | 0.375 | 2.866982 | 1.0751183 |\n| 1471 | ur      |  6 | 0.240 | 2.866982 | 0.6880757 |\n| 1780 | ur      |  6 | 0.240 | 2.866982 | 0.6880757 |\n| 2983 | ur      |  6 | 0.240 | 2.866982 | 0.6880757 |\n\n",
            "text/html": [
              "<table>\n",
              "<caption>A tibble: 6 × 6</caption>\n",
              "<thead>\n",
              "\t<tr><th scope=col>ID</th><th scope=col>word</th><th scope=col>n</th><th scope=col>tf</th><th scope=col>idf</th><th scope=col>tf_idf</th></tr>\n",
              "\t<tr><th scope=col>&lt;chr&gt;</th><th scope=col>&lt;chr&gt;</th><th scope=col>&lt;int&gt;</th><th scope=col>&lt;dbl&gt;</th><th scope=col>&lt;dbl&gt;</th><th scope=col>&lt;dbl&gt;</th></tr>\n",
              "</thead>\n",
              "<tbody>\n",
              "\t<tr><td>3018</td><td>happy  </td><td>15</td><td>0.300</td><td>4.149207</td><td>1.2447621</td></tr>\n",
              "\t<tr><td>1141</td><td>missing</td><td> 6</td><td>0.500</td><td>5.713183</td><td>2.8565913</td></tr>\n",
              "\t<tr><td>1354</td><td>ur     </td><td> 6</td><td>0.375</td><td>2.866982</td><td>1.0751183</td></tr>\n",
              "\t<tr><td>1471</td><td>ur     </td><td> 6</td><td>0.240</td><td>2.866982</td><td>0.6880757</td></tr>\n",
              "\t<tr><td>1780</td><td>ur     </td><td> 6</td><td>0.240</td><td>2.866982</td><td>0.6880757</td></tr>\n",
              "\t<tr><td>2983</td><td>ur     </td><td> 6</td><td>0.240</td><td>2.866982</td><td>0.6880757</td></tr>\n",
              "</tbody>\n",
              "</table>\n"
            ]
          },
          "metadata": {
            "tags": []
          }
        }
      ]
    },
    {
      "cell_type": "code",
      "metadata": {
        "id": "4bZPvfJRJFFf",
        "colab_type": "code",
        "colab": {}
      },
      "source": [
        "pacman::p_load(quanteda)"
      ],
      "execution_count": 0,
      "outputs": []
    },
    {
      "cell_type": "code",
      "metadata": {
        "id": "C5UxMxHnJg5J",
        "colab_type": "code",
        "outputId": "f5c456ea-6556-461e-fbd9-f1d08a028767",
        "colab": {
          "base_uri": "https://localhost:8080/",
          "height": 34
        }
      },
      "source": [
        "#document - feature - matrix \n",
        "sms_dfm <-data %>%\n",
        "count(ID, word) %>%\n",
        "cast_dfm(document =ID, term =word, value =n)\n",
        "spam_dfm"
      ],
      "execution_count": 0,
      "outputs": [
        {
          "output_type": "display_data",
          "data": {
            "text/plain": [
              "Document-feature matrix of: 5,451 documents, 8,581 features (99.9% sparse)."
            ]
          },
          "metadata": {
            "tags": []
          }
        }
      ]
    },
    {
      "cell_type": "code",
      "metadata": {
        "id": "8oADXoHxMVby",
        "colab_type": "code",
        "outputId": "df11471b-9955-4cf4-d773-eb596b8ee1fc",
        "colab": {
          "base_uri": "https://localhost:8080/",
          "height": 391
        }
      },
      "source": [
        "sms_lsa <-sms_dfm %>%\n",
        "textmodel_lsa(nd =5)\n",
        "sms_lsa %>% glimpse()\n"
      ],
      "execution_count": 0,
      "outputs": [
        {
          "output_type": "stream",
          "text": [
            "List of 5\n",
            " $ sk             : num [1:5] 31.8 27.2 22.5 21.9 18.7\n",
            " $ docs           : num [1:5451, 1:5] -1.35e-03 -5.80e-02 -1.68e-04 -1.79e-02 -8.13e-05 ...\n",
            "  ..- attr(*, \"dimnames\")=List of 2\n",
            "  .. ..$ : chr [1:5451] \"1\" \"10\" \"100\" \"1000\" ...\n",
            "  .. ..$ : NULL\n",
            " $ features       : num [1:8581, 1:5] -4.26e-05 -5.37e-05 -8.21e-04 -6.31e-04 -4.30e-03 ...\n",
            "  ..- attr(*, \"dimnames\")=List of 2\n",
            "  .. ..$ : chr [1:8581] \"amore\" \"buffet\" \"bugis\" \"cine\" ...\n",
            "  .. ..$ : NULL\n",
            " $ matrix_low_rank: num [1:5451, 1:8581] 2.80e-05 -2.26e-04 1.41e-06 1.46e-04 1.55e-06 ...\n",
            "  ..- attr(*, \"dimnames\")=List of 2\n",
            "  .. ..$ : chr [1:5451] \"1\" \"10\" \"100\" \"1000\" ...\n",
            "  .. ..$ : chr [1:8581] \"amore\" \"buffet\" \"bugis\" \"cine\" ...\n",
            " $ data           :Formal class 'dgCMatrix' [package \"Matrix\"] with 6 slots\n",
            "  .. ..@ i       : int [1:35412] 0 0 3160 0 383 715 1141 1841 2673 4409 ...\n",
            "  .. ..@ p       : int [1:8582] 0 1 3 10 17 31 32 39 134 167 ...\n",
            "  .. ..@ Dim     : int [1:2] 5451 8581\n",
            "  .. ..@ Dimnames:List of 2\n",
            "  .. ..@ x       : num [1:35412] 1 1 1 1 1 1 1 1 1 1 ...\n",
            "  .. ..@ factors : list()\n",
            " - attr(*, \"class\")= chr \"textmodel_lsa\"\n"
          ],
          "name": "stdout"
        }
      ]
    },
    {
      "cell_type": "code",
      "metadata": {
        "id": "Jg3CGsg_NQtg",
        "colab_type": "code",
        "outputId": "6255b302-c4e8-4a74-cd30-5a0168bbf71a",
        "colab": {
          "base_uri": "https://localhost:8080/",
          "height": 204
        }
      },
      "source": [
        "sms_lsa_loading <-sms_lsa$docs %>%as.data.frame() %>%rownames_to_column(var =\"ID\") %>%as_tibble()\n",
        "sms_lsa_loading %>%head()"
      ],
      "execution_count": 0,
      "outputs": [
        {
          "output_type": "display_data",
          "data": {
            "text/plain": [
              "  ID   V1            V2            V3            V4            V5           \n",
              "1 1    -1.354765e-03  1.935459e-03  0.0017760980  5.768992e-04  0.0043508896\n",
              "2 10   -5.798690e-02 -2.722002e-02 -0.0632076999  1.612564e-02 -0.0342390821\n",
              "3 100  -1.677729e-04 -1.207159e-05 -0.0002463875  2.315721e-04  0.0003467495\n",
              "4 1000 -1.788944e-02  2.871286e-02  0.0082208261 -7.742069e-03  0.0129199322\n",
              "5 1001 -8.133671e-05 -1.070836e-05 -0.0001499093  1.450893e-04  0.0003768479\n",
              "6 1002 -3.369026e-04  3.749962e-04  0.0003191993 -5.398799e-05  0.0007681002"
            ],
            "text/latex": "A tibble: 6 × 6\n\\begin{tabular}{r|llllll}\n ID & V1 & V2 & V3 & V4 & V5\\\\\n <chr> & <dbl> & <dbl> & <dbl> & <dbl> & <dbl>\\\\\n\\hline\n\t 1    & -1.354765e-03 &  1.935459e-03 &  0.0017760980 &  5.768992e-04 &  0.0043508896\\\\\n\t 10   & -5.798690e-02 & -2.722002e-02 & -0.0632076999 &  1.612564e-02 & -0.0342390821\\\\\n\t 100  & -1.677729e-04 & -1.207159e-05 & -0.0002463875 &  2.315721e-04 &  0.0003467495\\\\\n\t 1000 & -1.788944e-02 &  2.871286e-02 &  0.0082208261 & -7.742069e-03 &  0.0129199322\\\\\n\t 1001 & -8.133671e-05 & -1.070836e-05 & -0.0001499093 &  1.450893e-04 &  0.0003768479\\\\\n\t 1002 & -3.369026e-04 &  3.749962e-04 &  0.0003191993 & -5.398799e-05 &  0.0007681002\\\\\n\\end{tabular}\n",
            "text/markdown": "\nA tibble: 6 × 6\n\n| ID &lt;chr&gt; | V1 &lt;dbl&gt; | V2 &lt;dbl&gt; | V3 &lt;dbl&gt; | V4 &lt;dbl&gt; | V5 &lt;dbl&gt; |\n|---|---|---|---|---|---|\n| 1    | -1.354765e-03 |  1.935459e-03 |  0.0017760980 |  5.768992e-04 |  0.0043508896 |\n| 10   | -5.798690e-02 | -2.722002e-02 | -0.0632076999 |  1.612564e-02 | -0.0342390821 |\n| 100  | -1.677729e-04 | -1.207159e-05 | -0.0002463875 |  2.315721e-04 |  0.0003467495 |\n| 1000 | -1.788944e-02 |  2.871286e-02 |  0.0082208261 | -7.742069e-03 |  0.0129199322 |\n| 1001 | -8.133671e-05 | -1.070836e-05 | -0.0001499093 |  1.450893e-04 |  0.0003768479 |\n| 1002 | -3.369026e-04 |  3.749962e-04 |  0.0003191993 | -5.398799e-05 |  0.0007681002 |\n\n",
            "text/html": [
              "<table>\n",
              "<caption>A tibble: 6 × 6</caption>\n",
              "<thead>\n",
              "\t<tr><th scope=col>ID</th><th scope=col>V1</th><th scope=col>V2</th><th scope=col>V3</th><th scope=col>V4</th><th scope=col>V5</th></tr>\n",
              "\t<tr><th scope=col>&lt;chr&gt;</th><th scope=col>&lt;dbl&gt;</th><th scope=col>&lt;dbl&gt;</th><th scope=col>&lt;dbl&gt;</th><th scope=col>&lt;dbl&gt;</th><th scope=col>&lt;dbl&gt;</th></tr>\n",
              "</thead>\n",
              "<tbody>\n",
              "\t<tr><td>1   </td><td>-1.354765e-03</td><td> 1.935459e-03</td><td> 0.0017760980</td><td> 5.768992e-04</td><td> 0.0043508896</td></tr>\n",
              "\t<tr><td>10  </td><td>-5.798690e-02</td><td>-2.722002e-02</td><td>-0.0632076999</td><td> 1.612564e-02</td><td>-0.0342390821</td></tr>\n",
              "\t<tr><td>100 </td><td>-1.677729e-04</td><td>-1.207159e-05</td><td>-0.0002463875</td><td> 2.315721e-04</td><td> 0.0003467495</td></tr>\n",
              "\t<tr><td>1000</td><td>-1.788944e-02</td><td> 2.871286e-02</td><td> 0.0082208261</td><td>-7.742069e-03</td><td> 0.0129199322</td></tr>\n",
              "\t<tr><td>1001</td><td>-8.133671e-05</td><td>-1.070836e-05</td><td>-0.0001499093</td><td> 1.450893e-04</td><td> 0.0003768479</td></tr>\n",
              "\t<tr><td>1002</td><td>-3.369026e-04</td><td> 3.749962e-04</td><td> 0.0003191993</td><td>-5.398799e-05</td><td> 0.0007681002</td></tr>\n",
              "</tbody>\n",
              "</table>\n"
            ]
          },
          "metadata": {
            "tags": []
          }
        }
      ]
    },
    {
      "cell_type": "markdown",
      "metadata": {
        "id": "Q558jeKDK_XQ",
        "colab_type": "text"
      },
      "source": [
        ""
      ]
    },
    {
      "cell_type": "markdown",
      "metadata": {
        "id": "wczUUCzOK_gb",
        "colab_type": "text"
      },
      "source": [
        ""
      ]
    },
    {
      "cell_type": "markdown",
      "metadata": {
        "id": "sfjIdt4jK_nV",
        "colab_type": "text"
      },
      "source": [
        ""
      ]
    },
    {
      "cell_type": "code",
      "metadata": {
        "id": "aYZS7gfksmfW",
        "colab_type": "code",
        "colab": {}
      },
      "source": [
        "pacman::p_load(topicmodels)\n",
        "lda = dtm %>%   LDA(k = 2, method = \"Gibbs\", control = list(seed = 1337))\n",
        "\n",
        "\n",
        "lda_beta <- lda %>%\n",
        "  tidy(matrix = \"beta\") %>%\n",
        "  group_by(topic) %>%\n",
        "  arrange(topic, desc(beta)) %>%\n",
        "  slice(1:10) %>%\n",
        "  ungroup()\n",
        "\n",
        "lda_beta %>% head()\n",
        "\n",
        "lda_beta %>%\n",
        "  mutate(term = reorder_within(term, beta, topic)) %>%\n",
        "  group_by(topic, term) %>%\n",
        "  arrange(desc(beta)) %>%\n",
        "  ungroup() %>%\n",
        "  ggplot(aes(term, beta, fill = as.factor(topic))) +\n",
        "  geom_col(show.legend = FALSE) +\n",
        "  coord_flip() +\n",
        "  scale_x_reordered() +\n",
        "  labs(title = \"Top 10 terms in each LDA topic\",\n",
        "       x = NULL, y = expression(beta)) +\n",
        "  facet_wrap(~ topic, ncol = 2, scales = \"free\")"
      ],
      "execution_count": 0,
      "outputs": []
    },
    {
      "cell_type": "code",
      "metadata": {
        "id": "wu93eMk8sp65",
        "colab_type": "code",
        "colab": {}
      },
      "source": [
        "lda_gamma <- lda %>%\n",
        "  tidy(matrix = \"gamma\")\n",
        "\n",
        "lda_gamma %>% head()\n",
        "\n",
        "lda_gamma %>%\n",
        "  ggplot(aes(gamma)) +\n",
        "  geom_histogram() +\n",
        "  scale_y_log10() +\n",
        "  labs(title = \"Distribution of probabilities for all topics\",\n",
        "       y = \"Number of documents\", x = expression(gamma))\n",
        "\n",
        "\n",
        "lda_gamma %>%\n",
        "  ggplot(aes(gamma, fill = as.factor(topic))) +\n",
        "  geom_histogram(show.legend = FALSE) +\n",
        "  facet_wrap(~ topic, ncol = 2) +\n",
        "  scale_y_log10() +\n",
        "  labs(title = \"Distribution of probability for each topic\",\n",
        "       y = \"Number of documents\", x = expression(gamma))\n",
        "\n",
        "\n",
        "top_topics <- tweets_lda %>%\n",
        "  tidy(matrix = \"gamma\")  %>%\n",
        "  group_by(document) %>%\n",
        "  top_n(1, wt = gamma) %>%\n",
        "  ungroup()\n",
        "\n",
        "top_topics %>%\n",
        "  count(topic)"
      ],
      "execution_count": 0,
      "outputs": []
    }
  ]
}